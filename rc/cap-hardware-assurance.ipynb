{
 "cells": [
  {
   "cell_type": "markdown",
   "id": "b005039e",
   "metadata": {},
   "source": [
    "***\n",
    "< [Home](https://github.com/SeanOhAileasa) | [README](https://github.com/SeanOhAileasa/cap-software-and-systems-security/blob/main/README.md) >\n",
    "\n",
    "## CompTIA Cybersecurity Analyst (CySA+) - Course Material 2022\n",
    "###### Topic: ``Hardware Assurance``\n",
    "***"
   ]
  },
  {
   "cell_type": "markdown",
   "id": "b82b07fb",
   "metadata": {},
   "source": [
    "Course material for the ``CompTIA Cybersecurity Analyst (CySA+)`` module of the ``ICT Associate Apprenticeship (Cybersecurity)`` programme."
   ]
  },
  {
   "cell_type": "markdown",
   "id": "e7228f57",
   "metadata": {},
   "source": [
    "<a id=\"top\"></a>\n",
    "***\n",
    "## Table of Contents\n",
    "***"
   ]
  },
  {
   "cell_type": "markdown",
   "id": "c2bb5e7b",
   "metadata": {},
   "source": [
    "### [Hardware Assurance](#a) <br/><br/>\n",
    "\n",
    "- [Hardware Assurance Best Practices](#b) <br/><br/> \n",
    "- [Supply Chain Assessment](#c) <br/><br/> \n",
    "    - [Due Diligence](#d) <br/><br/> \n",
    "        - [Legal Principle](#d) ``Used Best Practice/Reasonable Care in Setting up/Configuring/Maintaining System`` <br/><br/> \n",
    "            - [Vendor/Supplier](#d) <br/><br/> \n",
    "                - [Due Diligence Questionnaire Checklist](#d) <br/><br/>\n",
    "                    - Do they offer ``IR`` and/or ``Forensics Services`` on their behalf? <br/><br/>\n",
    "                    - Do they have their own ``Established CS Risk Management Program`` in place? <br/><br/>\n",
    "                    - Do they regularly ``Patch``/``Update`` their ``Product`` in a timely manner? <br/><br/>\n",
    "                    - Do they inject any type of ``Security/Development Best Practices`` into their ``Creation Process``? <br/><br/>\n",
    "                    - What ``Security Controls`` do they have in place when ``Accessing`` your ``Data``? <br/><br/>\n",
    "                    - What does their historical ``Background Check`` look like? Have they gone ``Bankrupt``? Have they been ``Breached``?\n",
    "<hr width=50%;>                    "
   ]
  },
  {
   "cell_type": "markdown",
   "id": "5012cdee",
   "metadata": {},
   "source": [
    "- [Hardware Source Authenticity / Trusted Foundry](#e) <br/><br/> \n",
    "    - [Hardware Source Authenticity](#e) <br/><br/> \n",
    "        - [Procured Tamper-free from Trustworthy Suppliers](#e) ``Validate Supply Chain at all Costs`` <br/><br/> \n",
    "    - [Trusted Foundry](#e) <br/><br/> \n",
    "        - [Microprocessor Manufacturing Utility](#e) ``Part of Validated Supply Chain`` <br/><br/>\n",
    "            - [``HW``/``SW``](#e) <br/><br/>\n",
    "                - [~~Deviate from Documented Functions~~](#e) <br/><br/>\n",
    "        - [Defense Microelectronics Activity](#e) <br/><br/> \n",
    "            - [``DMEA``](#e) <br/><br/>  \n",
    "    - [Hardware Root of Trust](#f) <br/><br/> \n",
    "        - [Embedded Cryptographic Module](#f) <br/><br/> \n",
    "            - [Endorse Trusted Execution](#f) | [Attest Boot Settings/Metrics](#f) <br/><br/> \n",
    "    - [Trusted Platform Module](#g) ``TPM`` <br/><br/> \n",
    "        - [Specification](#g) | [Hardware-based Storage](#g) <br/><br/> \n",
    "            - [Digital Certificates](#g) | [Keys](#g) | [Hashed Passwords](#g) | [Other User/Platform ID Information](#g) <br/><br/>              \n",
    "        - [Implementation](#g) ``Chipset`` or ``Embedded Option of CPU`` <br/><br/> \n",
    "            - [Microprocessor](#g) <br/><br/> \n",
    "                - [Asymmetric Private Key](#g) ``Unchangeable`` <br/><br/> \n",
    "                    - [Create Subkeys](#g) ``Perform Select Access Tasks`` <br/><br/> \n",
    "    - [Hardware Security Module](#h) ``HSM`` <br/><br/> \n",
    "        - [Appliance](#h) <br/><br/> \n",
    "            - [Generating / Storing Cryptographic Keys](#h) <br/><br/> \n",
    "                - Less Susceptible to Tampering / Insider Threats than SW-based Storage <br/><br/> \n",
    "        - [Implementation](#h) | [Third-party Vendor](#h)\n",
    "            - [Primarily used for Storing Symmetric Encryption Keys](#h) <br/><br/> \n",
    "                - [``Thales``](#h) <br/><br/> \n",
    "                - [``nCipher``](#h) <br/><br/> \n",
    "    - [Anti-Tamper](#i) <br/><br/> \n",
    "        - [Field-Programmable Gate Array](#i) ``FPGA``<br/><br/> \n",
    "            - [Create a Digital Fingerprint](#i) <br/><br/> \n",
    "        - [Physically Unclonable Function](#i) <br/><br/> \n",
    "            - [``PUF``](#i) ``Combined with FPGA`` <br/><br/> \n",
    "                - [Detect / Remediate any Nefarious Activities](#i) ``Anti-tamper Solution`` <br/><br/> \n",
    "- [Trusted Firmware](#j) ``Firmware``/``Most Sensitive / Vulnerable`` <br/><br/> \n",
    "    - [Encryption](#j) ``Techniques`` <br/><br/> \n",
    "        - [Unified Extensible Firmware Interface](#j) ``UEFI`` <br/><br/> \n",
    "            - [Boot Security](#j) Supports ``64-bit CPU Operation at Boot``/``Full GUI``/``Mouse Operation at Boot`` <br/><br/> \n",
    "                - [Secure Boot](#j) <br/><br/> \n",
    "                    - [Prevents Unwanted Processes Executing during Boot](#j) <br/><br/> \n",
    "                - [Measured Boot](#j) | [Gather Secure Metrics](#j) ``Validate Boot Process`` <br/><br/> \n",
    "                    - [Attestation Report](#j) <br/><br/> \n",
    "        - [``eFUSE``](#j) <br/><br/> \n",
    "            - [Software/Firmware](#j) <br/><br/> \n",
    "                - [Permanently Alter Transister State](#j) <br/><br/> \n",
    "    - [Trusted Firmware Updates](#k) <br/><br/> \n",
    "        - [~~Untrusted Update Exploitation~~](#k) <br/><br/> \n",
    "            - [``Intel Boot Guard``](#k) <br/><br/> \n",
    "        - [Trusted Special Key](#k) <br/><br/> \n",
    "            - ``Used each time to Validate before Updating`` <br/><br/> \n",
    "        - [Self-Encrypting Drives](#k) <br/><br/> \n",
    "            - [``SED``](#k) ``Disk Drive`` <br/><br/> \n",
    "                - Controller can Automatically Encrypt Data written to it <br/><br/> \n",
    "- [Secure Processing](#l) <br/><br/>\n",
    "    - [Mechanism for Ensuring CIA Triad of Software Code and Data](#l) <br/><br/>\n",
    "        - [Executed in Volatile Memory](#l) <br/><br/> \n",
    "    - [Malware](#l) <br/><br/> \n",
    "        - [Obfuscation](#l) ``Technique to Hide its Activity`` <br/><br/> \n",
    "            - [Identify Known Versus Uncommon Process Activities](#l) <br/><br/>\n",
    "        - [Eliminate Untrusted Processing](#l) ``Further Solidify Security Stance`` <br/><br/>\n",
    "            - [Use Bus Encryption](#l) <br/><br/> \n",
    "                - [Lock Down Ports/USB/HDMI](#l) ``Without Proper Authentication`` <br/><br/>\n",
    "            - [Use a Secure Enclave for Trusted Processes](#l) ``Dedicated Secure Subsystem`` <br/><br/>\n",
    "            - [Ensure Processor Security Extensions are Enabled](#l) <br/><br/>\n",
    "            - [Try Atomic Execution](#l) <br/><br/>\n",
    "                - [Process Executes Only the Number of Times it Needs](#l) ``Stripped of its Access``       \n",
    "                     \n",
    "<hr width=50%;>"
   ]
  },
  {
   "cell_type": "markdown",
   "id": "bf2b95e2",
   "metadata": {},
   "source": [
    "***\n",
    "## END"
   ]
  },
  {
   "cell_type": "markdown",
   "id": "34aa6eb5",
   "metadata": {},
   "source": [
    "< [Table of Contents](#top) | [References](#references) >\n",
    "<a id=\"a\"></a>\n",
    "***\n",
    "### Hardware Assurance\n",
    "***"
   ]
  },
  {
   "cell_type": "markdown",
   "id": "b2711525",
   "metadata": {},
   "source": [
    "> Communicate best practices for supply chain, hardware root of trust, trusted firmware, and secure processing"
   ]
  },
  {
   "cell_type": "markdown",
   "id": "26c7acb1",
   "metadata": {},
   "source": [
    "< [Table of Contents](#top) | [References](#references) >\n",
    "<a id=\"b\"></a>\n",
    "***\n",
    "###### Hardware Assurance Best Practices\n",
    "***"
   ]
  },
  {
   "cell_type": "markdown",
   "id": "eebd9b96",
   "metadata": {},
   "source": [
    "Cover a number of **Hardware Assurance** best practices, including ``Supply Chain Assessment``, ``Hardware Source Authenticity and Trusted Foundry``, ``Trusted Firmware``."
   ]
  },
  {
   "cell_type": "markdown",
   "id": "23f63f37",
   "metadata": {},
   "source": [
    "< [Table of Contents](#top) | [References](#references) >\n",
    "<a id=\"c\"></a>\n",
    "***\n",
    "###### Supply Chain Assessment\n",
    "***"
   ]
  },
  {
   "cell_type": "markdown",
   "id": "ed2c8f08",
   "metadata": {},
   "source": [
    "Start with ensuring due diligence and source authenticity in outlining the different methods of supply chain assessment."
   ]
  },
  {
   "cell_type": "markdown",
   "id": "20098e63",
   "metadata": {},
   "source": [
    "< [Table of Contents](#top) | [References](#references) >\n",
    "<a id=\"d\"></a>\n",
    "***\n",
    "###### Supply Chain Assessment - Vendor Due Diligence\n",
    "***"
   ]
  },
  {
   "cell_type": "markdown",
   "id": "f3cec381",
   "metadata": {},
   "source": [
    "``Due Diligence`` is a legal principle in that a subject has used best practice or reasonable care when setting up, configuring, and maintaining a system. \n",
    "\n",
    "Performing due diligence on your vendors and suppliers is crucial to securing your specific supply chain.\n",
    "\n",
    "> Due Diligence Questionnaire Checklist\n",
    "\n",
    "The following are some considerations for establishing a solid due diligence questionnaire checklist:\n",
    "\n",
    "\n",
    "- Do they offer incident response and/or forensics services on their behalf?\n",
    "\n",
    "\n",
    "- Do they have their own established cyber security risk management program in place?\n",
    "\n",
    "\n",
    "- Do they regularly patch and update their product in a timely manner?\n",
    "\n",
    "\n",
    "- Do they inject any type of security or development best practices into their creation process?\n",
    "\n",
    "\n",
    "- What security controls do they have in place when accessing your data?\n",
    "\n",
    "\n",
    "- What does their historical background check look like? Have they gone bankrupt? Have they been breached?"
   ]
  },
  {
   "cell_type": "markdown",
   "id": "8a1ce8c4",
   "metadata": {},
   "source": [
    "< [Table of Contents](#top) | [References](#references) >\n",
    "<a id=\"e\"></a>\n",
    "***\n",
    "###### Supply Chain Assessment - Hardware Source Authenticity and Trusted Foundry\n",
    "***"
   ]
  },
  {
   "cell_type": "markdown",
   "id": "9b48782c",
   "metadata": {},
   "source": [
    "> Hardware Source Authenticity \n",
    "\n",
    "Is the process of ensuring that hardware is procured tamper-free from trustworthy suppliers - validating the supply chain at all costs.\n",
    "\n",
    "> Trusted Foundry\n",
    "\n",
    "Is a microprocessor manufacturing utility that is part of a validated supply chain (one where hardware and software does not deviate from its documented functions).\n",
    "\n",
    "> Trusted Foundry - Defense Microelectronics Activity - [ [``DMEA``](https://www.defense.gov/News/Releases/Release/Article/2892798/the-defense-microelectronics-activity-designated-as-a-center-for-industrial-tec/) ]\n",
    "\n",
    "Ensuring that any third parties you deal with are thoroughly vetted and have a trusted supply chain is vital to your survival. \n",
    "\n",
    "Checking with a Trusted Foundry like ``DMEA`` (Defense Microelectronics Activity) is a great way to get a bit of background on who your supplier actually deals with. "
   ]
  },
  {
   "cell_type": "markdown",
   "id": "0f523e39",
   "metadata": {},
   "source": [
    "< [Table of Contents](#top) | [References](#references) >\n",
    "<a id=\"f\"></a>\n",
    "***\n",
    "###### Supply Chain Assessment - Hardware Root of Trust\n",
    "***"
   ]
  },
  {
   "cell_type": "markdown",
   "id": "925d896b",
   "metadata": {},
   "source": [
    "Hardware Root of Trust is a cryptographic module embedded within a computer system that can endorse trusted execution and attest to boot settings and metrics."
   ]
  },
  {
   "cell_type": "markdown",
   "id": "c3b2728f",
   "metadata": {},
   "source": [
    "< [Table of Contents](#top) | [References](#references) >\n",
    "<a id=\"g\"></a>\n",
    "***\n",
    "###### Supply Chain Assessment - Trusted Platform Module - ``TPM``\n",
    "***"
   ]
  },
  {
   "cell_type": "markdown",
   "id": "bc71d3de",
   "metadata": {},
   "source": [
    "A ``TPM`` is a specification for hardware-based storage of:\n",
    "\n",
    "- Digital Certificates\n",
    "\n",
    "\n",
    "- Keys\n",
    "\n",
    "\n",
    "- Hashed Passwords\n",
    "\n",
    "\n",
    "- Other User / Platform Identification Information\n",
    "\n",
    "Most implementations of a ``TPM`` are included in a device's ``Chipset`` or as an embedded option of the ``CPU`` itself. \n",
    "\n",
    "What is so unique is that the microprocessor has an unchangeable asymmetric private key that can be used to create other types of subkeys to perform select access tasks."
   ]
  },
  {
   "cell_type": "markdown",
   "id": "36b2734b",
   "metadata": {},
   "source": [
    "< [Table of Contents](#top) | [References](#references) >\n",
    "<a id=\"h\"></a>\n",
    "***\n",
    "###### Supply Chain Assessment - Hardware Security Module - ``HSM``\n",
    "***"
   ]
  },
  {
   "cell_type": "markdown",
   "id": "951e1c7b",
   "metadata": {},
   "source": [
    "Is an appliance for generating and storing cryptographic keys.\n",
    "\n",
    "This sort of solution may be less susceptible to tampering and insider threats than software-based storage.\n",
    "\n",
    "It is important to know that ``HSM`` are usually implemented by a third-party vendor and are primarily used for storing symmetric encryption keys - examples of these third-party solutions include Thales and nCipher."
   ]
  },
  {
   "cell_type": "markdown",
   "id": "1d502d97",
   "metadata": {},
   "source": [
    "< [Table of Contents](#top) | [References](#references) >\n",
    "<a id=\"i\"></a>\n",
    "***\n",
    "###### Supply Chain Assessment - Anti-Tamper\n",
    "***"
   ]
  },
  {
   "cell_type": "markdown",
   "id": "85bfa796",
   "metadata": {},
   "source": [
    "> Field-Programmable Gate Array - ``FPGA``\n",
    "\n",
    "Anti-tamper is simply a mechanism that makes use of the Field-Programmable Gate Array (``FPGA``) to create a ``Digital Fingerprint``.\n",
    "\n",
    "> Field-Programmable Gate Array - ``FPGA`` - Physically Unclonable Function - ``PUF``\n",
    "\n",
    "When combined with a Physically Unclonable Function (``PUF``) of the device, anti-tamper solutions can detect and remediate any nefarious activities that may be occurring. \n",
    "\n",
    "Anti-tamper methods make it difficult for an attacker to alter the authorized execution of software."
   ]
  },
  {
   "cell_type": "markdown",
   "id": "ef970eee",
   "metadata": {},
   "source": [
    "< [Table of Contents](#top) | [References](#references) >\n",
    "<a id=\"j\"></a>\n",
    "***\n",
    "###### Trusted Firmware \n",
    "***"
   ]
  },
  {
   "cell_type": "markdown",
   "id": "88b38d76",
   "metadata": {},
   "source": [
    "> Encryption\n",
    "\n",
    "Encryption of the firmware is extremely important as it limits an attacker's ability to gain access to one of the most sensitive and vulnerable areas on a machine. \n",
    "\n",
    "The following are some different types of techniques that can be used for this purpose:\n",
    "\n",
    "> Encryption - Unified Extensible Firmware Interface - ``UEFI``\n",
    "\n",
    "A type of system firmware providing support for 64-bit CPU operation at boot, full GUI and mouse operation at boot, and better boot security.\n",
    "\n",
    "> Encryption - Unified Extensible Firmware Interface - ``UEFI`` - Secure Boot\n",
    "\n",
    "A ``UEFI`` feature that prevents unwanted processes from executing during the boot operation.\n",
    "\n",
    "> Encryption - Unified Extensible Firmware Interface - ``UEFI`` - Measured Boot\n",
    "\n",
    "A ``UEFI`` feature that gathers secure metrics to validate the boot process in an attestation report.\n",
    "\n",
    "> Encryption - eFUSE\n",
    "\n",
    "A means for software or firmware to permanently alter the state of a transistor on a computer chip."
   ]
  },
  {
   "cell_type": "markdown",
   "id": "cd6588c0",
   "metadata": {},
   "source": [
    "< [Table of Contents](#top) | [References](#references) >\n",
    "<a id=\"k\"></a>\n",
    "***\n",
    "###### Trusted Firmware - Trusted Firmware Updates\n",
    "***"
   ]
  },
  {
   "cell_type": "markdown",
   "id": "bd575510",
   "metadata": {},
   "source": [
    "Using technology to prevent untrusted update exploitation like ``Intel Boot Guard`` can help in this effort. \n",
    "\n",
    "With trusted firmware updated, a trusted special key is used each time to validate before updating."
   ]
  },
  {
   "cell_type": "markdown",
   "id": "e59f5b14",
   "metadata": {},
   "source": [
    "< [Table of Contents](#top) | [References](#references) >\n",
    "<a id=\"k\"></a>\n",
    "***\n",
    "###### Trusted Firmware - Trusted Firmware Updates - Self-Encrypting Drives - ``SED``"
   ]
  },
  {
   "cell_type": "markdown",
   "id": "b509dd6c",
   "metadata": {},
   "source": [
    "Can also use Self-Encrypting Drives (``SED``), a disk drive where the controller can automatically encrypt data that is written to it."
   ]
  },
  {
   "cell_type": "markdown",
   "id": "13d8b203",
   "metadata": {},
   "source": [
    "< [Table of Contents](#top) | [References](#references) >\n",
    "<a id=\"l\"></a>\n",
    "***\n",
    "###### Secure Processing\n",
    "***"
   ]
  },
  {
   "cell_type": "markdown",
   "id": "409a3728",
   "metadata": {},
   "source": [
    "Secure Processing is a mechanism for ensuring the ``CIA Triad of Software Code and Data`` as it is executed in volatile memory.\n",
    "\n",
    "> Malware - Obfuscation - Identify Known Versus Uncommon Process Activities\n",
    "\n",
    "A popular technique with malware is to try and hide its activity in a process called obfuscation. \n",
    "\n",
    "One way to capture and eliminate this activity is to try and identify known versus uncommon process activities.\n",
    "\n",
    "The following are some ways to eliminate untrusted processing and further solidify your security stance.\n",
    "\n",
    "\n",
    "- Use bus encryption to lock down ports, USB, or even HDMI from being used without proper authentication.\n",
    "\n",
    "\n",
    "- Use a [ [``Secure Enclave``](https://www.anjuna.io/what-is-a-secure-enclave) ] for trusted processes.\n",
    "\n",
    "\n",
    "- Ensure processor security extensions are enabled if applicable.\n",
    " \n",
    "\n",
    "- Try atomic execution, where a process has the ability to execute only the number of times it needs, before it is then stripped of its access."
   ]
  },
  {
   "cell_type": "markdown",
   "id": "2cc20932",
   "metadata": {},
   "source": [
    "***\n",
    "## END"
   ]
  },
  {
   "cell_type": "markdown",
   "id": "e0e42d51",
   "metadata": {},
   "source": [
    "< [Table of Contents](#top) >\n",
    "<a id=\"references\"></a>\n",
    "***\n",
    "## References\n",
    "***"
   ]
  },
  {
   "cell_type": "markdown",
   "id": "d8c22512",
   "metadata": {},
   "source": [
    "&nbsp;&nbsp;&nbsp;&nbsp;&nbsp;&nbsp;&nbsp;&nbsp;&nbsp;cybrary, \"Hardware Assurance,\" [cybrary.it](https://web.archive.org/web/20220724081418/https://www.cybrary.it/), n.d.."
   ]
  },
  {
   "cell_type": "markdown",
   "id": "b33c372a",
   "metadata": {},
   "source": [
    "***\n",
    "## END"
   ]
  },
  {
   "cell_type": "markdown",
   "id": "e5961b4d",
   "metadata": {},
   "source": [
    "< [Table of Contents](#top) | [References](#references) >\n",
    "<a id=\"appendix\"></a>\n",
    "***\n",
    "## Appendix\n",
    "***"
   ]
  },
  {
   "cell_type": "markdown",
   "id": "00d82a82",
   "metadata": {},
   "source": [
    "***\n",
    "## END"
   ]
  },
  {
   "cell_type": "code",
   "execution_count": 1,
   "id": "706756a2",
   "metadata": {},
   "outputs": [
    {
     "name": "stderr",
     "output_type": "stream",
     "text": [
      "C:\\Users\\SeanOhAileasa\\AppData\\Local\\Temp\\ipykernel_12248\\1322614208.py:1: DeprecationWarning: Importing display from IPython.core.display is deprecated since IPython 7.14, please import from IPython display\n",
      "  from IPython.core.display import display,HTML\n"
     ]
    },
    {
     "data": {
      "text/html": [
       "<style>.container { width:100% !important; }</style>"
      ],
      "text/plain": [
       "<IPython.core.display.HTML object>"
      ]
     },
     "metadata": {},
     "output_type": "display_data"
    }
   ],
   "source": [
    "from IPython.core.display import display,HTML\n",
    "display(HTML(\"<style>.container { width:100% !important; }</style>\"))"
   ]
  },
  {
   "cell_type": "markdown",
   "id": "899c1783",
   "metadata": {},
   "source": [
    "# END JUPYTER NOTEBOOK"
   ]
  }
 ],
 "metadata": {
  "kernelspec": {
   "display_name": "Python 3 (ipykernel)",
   "language": "python",
   "name": "python3"
  },
  "language_info": {
   "codemirror_mode": {
    "name": "ipython",
    "version": 3
   },
   "file_extension": ".py",
   "mimetype": "text/x-python",
   "name": "python",
   "nbconvert_exporter": "python",
   "pygments_lexer": "ipython3",
   "version": "3.9.12"
  }
 },
 "nbformat": 4,
 "nbformat_minor": 5
}

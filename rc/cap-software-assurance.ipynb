{
 "cells": [
  {
   "cell_type": "markdown",
   "id": "d4ee9e4b",
   "metadata": {},
   "source": [
    "***\n",
    "< [Home](https://github.com/SeanOhAileasa) | [README](https://github.com/SeanOhAileasa/cap-software-and-systems-security/blob/main/README.md) >\n",
    "\n",
    "## CompTIA Cybersecurity Analyst (CySA+) - Course Material 2022\n",
    "###### Topic: ``Software Assurance``\n",
    "***"
   ]
  },
  {
   "cell_type": "markdown",
   "id": "b82b07fb",
   "metadata": {},
   "source": [
    "Course material for the ``CompTIA Cybersecurity Analyst (CySA+)`` module of the ``ICT Associate Apprenticeship (Cybersecurity)`` programme."
   ]
  },
  {
   "cell_type": "markdown",
   "id": "e7228f57",
   "metadata": {},
   "source": [
    "<a id=\"top\"></a>\n",
    "***\n",
    "## Table of Contents\n",
    "***"
   ]
  },
  {
   "cell_type": "markdown",
   "id": "c2bb5e7b",
   "metadata": {},
   "source": [
    "### [Software Assurance](#a) <br/><br/>\n",
    "\n",
    "- [Software Assurance Best Practices](#b) ``Secure Coding`` <br/><br/> \n",
    "    - [Open Web Application Security Project](#b) <br/><br/> \n",
    "        - [``OWASP``](#b) <br/><br/> \n",
    "    - [SysAdmin Network and Security Institute](#b) <br/><br/> \n",
    "        - [``SANS``](#b) <br/><br/> \n",
    "- [Platform-Specific Best Practices](#c) <br/><br/> \n",
    "    - [Client/Server](#c) <br/><br/> \n",
    "        - [ [OWASP Secure Coding Practices-Quick Reference Guide](https://owasp.org/www-project-secure-coding-practices-quick-reference-guide/migrated_content) ] <br/><br/>\n",
    "    - [Web Applications](#c) ``Extension to Client/Server Structure`` <br/><br/> \n",
    "    - [Mobile Applications](#c) <br/><br/> \n",
    "        - [ [OWASP Mobile Top 10](https://owasp.org/www-project-mobile-top-10/) ] <br/><br/> \n",
    "    - [Embedded Applications](#c) <br/><br/> \n",
    "        - [Firmware](#c) <br/><br/> \n",
    "            - [System on Chip](#c) ``SoC`` <br/><br/> \n",
    "                - [ [OWASP Embedded Application Development](https://owasp.org/www-project-embedded-application-security/) ] <br/><br/> \n",
    "- [Secure Coding Best Practices](#d) <br/><br/> \n",
    "    - [Input Validation](#d) <br/><br/> \n",
    "        - Input Handled Appropriately by that Application <br/><br/> \n",
    "            - [ [OWASP Input Validation Cheat Sheet](https://cheatsheetseries.owasp.org/cheatsheets/Input_Validation_Cheat_Sheet.html) ] <br/><br/> \n",
    "    - [Output Encoding](#d) <br/><br/> \n",
    "        - Sanitise Output Created from User Input <br/><br/> \n",
    "            - [ [OWASP](https://wiki.owasp.org/index.php/Category:Encoding) ] <br/><br/>\n",
    "            - [ [W3 Schools](https://www.w3schools.com/html/html_entities.asp) ] <br/><br/>\n",
    "    - [Parameterized Queries](#d) <br/><br/> \n",
    "        - [``SQL Injection``](#d) <br/><br/> \n",
    "            - [``\"Placeholders\"``](#d) ``SQL Query`` <br/><br/> \n",
    "                - [ [OWASP Query Parameterization Cheat Sheet](https://cheatsheetseries.owasp.org/cheatsheets/Query_Parameterization_Cheat_Sheet.html) ] <br/><br/>\n",
    "- [Sensitive Data Protection](#e) ``Bypass Access Controls``/``Retrieve Confidential/Sensitive Data`` <br/><br/> \n",
    "    - [Best Practices](#e) <br/><br/>\n",
    "        - [ [Review the OWASP Top 10 List](https://owasp.org/www-project-top-ten/2017/A3_2017-Sensitive_Data_Exposure) ] ``Web Application`` <br/><br/>\n",
    "        - [Avoid Hardcoded Credentials](#e) <br/><br/> \n",
    "        - [Control Cached Data](#e) ``Controlled in a Client/Server Environment`` <br/><br/> \n",
    "            - [Disable](#e) | [Autocomplete](#e) | [Cookie Feature](#e) <br/><br/> \n",
    "- [Software Assessment Methods](#f) ``Vulnerability Scan Critical`` <br/><br/> \n",
    "    - [Static Analysis and Code Review](#g) <br/><br/> \n",
    "        - [Uncompiled](#g) ``Source Code`` <br/><br/>     \n",
    "            - [Static Code Analysis](#g) <br/><br/> \n",
    "                - [Manually](#g) | [Automated Tools](#g) <br/><br/> \n",
    "            - [Code Review](#g) ``Human Code Review`` <br/><br/> \n",
    "                - [Peer Review](#g) ``Combination with Static Analysis`` <br/><br/> \n",
    "    - [Verification of Critical Software](#h) ``Validating Software Design`` <br/><br/> \n",
    "        - [Mathematical Modeling](#h) <br/><br/> \n",
    "            - [Expected I/O](#h) <br/><br/> \n",
    "    - [User Acceptance Testing](#i) ``Last Stages < Release``/``Human Feedback`` <br/><br/> \n",
    "        - [``UAT``](#i) ``Test Performance in a Live Environment`` <br/><br/> \n",
    "            - [Fit for Purpose](#i) <br/><br/> \n",
    "    - [Security Regression Testing](#j) ``Comparing Security Fixes against Applications as a Baseline`` <br/><br/> \n",
    "        - [Updates ~~Compromise~~ Existing Security](#j) <br/><br/> \n",
    "- [Service-Oriented Architecture](#k) ``Streamline / Secure Service Development Process`` <br/><br/> \n",
    "    - [``SOA``](#k) <br/><br/> \n",
    "        - [Best Practices](#k) <br/><br/> \n",
    "            - [Microservices](#l) <br/><br/> \n",
    "                - Solution Components Conceived as Highly Separated Services ~~Dependent on a Single Platform Technology~~ <br/><br/> \n",
    "            - [Simple Object Access Protocol](#m) ``SOAP``/``Messaging Protocol`` <br/><br/> \n",
    "                - [Exchange Messages](#m) ``XML`` <br/><br/> \n",
    "                    - Supports | Authentication - Security in Transport - Asynchronous Messaging <br/><br/> \n",
    "                    - Integrity | ``Rule of Least Privilege`` <br/><br/>\n",
    "            - [Security Assertions Markup Language](#n) ``SAML``/``Often Used with SOAP`` <br/><br/> \n",
    "                - [Exchange Authentication Information between Client / Service](#n) ``XML`` <br/><br/> \n",
    "                    - [Communicated via HTML Assertion Form](#n) <br/><br/> \n",
    "            - [Representational State Transfer](#o) | [``REST``](#o) | [``API``](#o) <br/><br/> \n",
    "                - [Authentication/Authorization](#o) | [``Oauth``](#o) <br/><br/> \n",
    "                    - Share User Data between Sites / Applications <br/><br/> \n",
    "            - [OpenID Connect](#p) ``OIDC`` <br/><br/> \n",
    "                - [Protocol to Handle Authorizing Claims](#p) ~~Authenticating Actual User Accounts~~ <br/><br/>\n",
    "- [Automation Best Practices](#q) `` Preserve the Spirit of Security`` <br/><br/> \n",
    "    - [DevSecOps](#r) <br/><br/> \n",
    "        - [Static Code Analysis](#r) ``Remediate before Live in Production`` <br/><br/> \n",
    "    - [Infrastructure as Code](#s) <br/><br/> \n",
    "        - [``IaC``](#s) <br/><br/> \n",
    "            - [Provisioning Architecture](#s) <br/><br/> \n",
    "                - [Scripted Automation / Orchestration](#s) ``Deployment`` <br/><br/> \n",
    "            - [Ensure Proper Access/Resource Controls](#s) <br/><br/> \n",
    "                - Who / What can Create which Types of Resources <br/><br/>\n",
    "            - [Golden Image Standard](#s) <br/><br/> \n",
    "                - [Template](#s) <br/><br/> \n",
    "                    - [Boundaries](#s) <br/><br/> \n",
    "    - [Security Orchestration Automation and Response](#t) ``SOAR`` <br/><br/> \n",
    "        - [Security Tools](#t) ``Orchestrating Automated Runbooks``/``Delivering Data Enrichment`` <br/><br/> \n",
    "            - [Incident Response](#t) <br/><br/> \n",
    "            - [Threat Hunting](#t) <br/><br/> \n",
    "            - [Security Configuration](#t) <br/><br/>\n",
    "        - Implementing SOAR Solution  <br/><br/>\n",
    "            - [Streamline Automation](#t) <br/><br/> \n",
    "                - [Machine Learning Techniques](#t) <br/><br/> \n",
    "                    - [Automated Malware Signature Creation](#t) <br/><br/> \n",
    "                    - [Data Enrichment](#t) <br/><br/> \n",
    "                    - [``AI``](#t) <br/><br/> \n",
    "            - [Orchestrate Response / Remediation](#t) <br/><br/> \n",
    "                - [Playbook](#t) <br/><br/>        \n",
    "                    - [Checklist](#t) <br/><br/>        \n",
    "                - [Runbook](#t) <br/><br/>                             \n",
    "                    - [Automated Playbook](#t)\n",
    "                     \n",
    "<hr width=50%;>"
   ]
  },
  {
   "cell_type": "markdown",
   "id": "bf2b95e2",
   "metadata": {},
   "source": [
    "***\n",
    "## END"
   ]
  },
  {
   "cell_type": "markdown",
   "id": "34aa6eb5",
   "metadata": {},
   "source": [
    "< [Table of Contents](#top) | [References](#references) >\n",
    "<a id=\"a\"></a>\n",
    "***\n",
    "### Software Assurance\n",
    "***"
   ]
  },
  {
   "cell_type": "markdown",
   "id": "6cbfca00",
   "metadata": {},
   "source": [
    "> Determine SDLC and secure coding best practices\n",
    "\n",
    "> Determine web application best practices\n",
    "\n",
    "> Utilize software assurance tools\n",
    "\n",
    "> Communicate service-oriented best practices\n",
    "\n",
    "> Explain automation best practices"
   ]
  },
  {
   "cell_type": "markdown",
   "id": "21742590",
   "metadata": {},
   "source": [
    "< [Table of Contents](#top) | [References](#references) >\n",
    "<a id=\"b\"></a>\n",
    "***\n",
    "###### Software Assurance Best Practices\n",
    "***"
   ]
  },
  {
   "cell_type": "markdown",
   "id": "c3bc09e4",
   "metadata": {},
   "source": [
    "When developing an application, it is important to incorporate secure coding best practices into your overall software development lifecycle. \n",
    "\n",
    "The following resources are great places to start evaluating your application and at least attempt to identify and remove some low-hanging fruit vulnerabilities in the process.\n",
    "\n",
    "> Open Web Application Security Project - ``OWASP``\n",
    "\n",
    "A non-profit organization and community publishing a number of secure application development resources.\n",
    "\n",
    "> SysAdmin Network and Security Institute - ``SANS``\n",
    "\n",
    "A company specializing in cybersecurity and secure web application development training and sponsors the Global Information Assurance Certification (``GIAC``)."
   ]
  },
  {
   "cell_type": "markdown",
   "id": "fa250d4d",
   "metadata": {},
   "source": [
    "< [Table of Contents](#top) | [References](#references) >\n",
    "<a id=\"c\"></a>\n",
    "***\n",
    "###### Platform-Specific Best Practices\n",
    "***"
   ]
  },
  {
   "cell_type": "markdown",
   "id": "0ecfbb77",
   "metadata": {},
   "source": [
    "Code development best practices are not limited - apply to many platforms across your enterprise. \n",
    "\n",
    "It is important to understand the best practices for each type of platform as follows:\n",
    "\n",
    "> Client/Server\n",
    "\n",
    "The [ [OWASP Secure Coding Practices-Quick Reference Guide](https://owasp.org/www-project-secure-coding-practices-quick-reference-guide/migrated_content) ] is a great place to focus.\n",
    "\n",
    "> Web Applications\n",
    "\n",
    "Web apps are an extension of that ``Client/Server`` structure - the ``OWASP`` best practices for ``Client/Server`` apply here as well.\n",
    "\n",
    "> Mobile Applications\n",
    "\n",
    "[ [OWASP Mobile Top 10](https://owasp.org/www-project-mobile-top-10/) ]\n",
    "\n",
    "> Embedded Applications/Firmware/SoC (System on Chip)\n",
    "\n",
    "[ [OWASP Embedded Application Development](https://owasp.org/www-project-embedded-application-security/) ]"
   ]
  },
  {
   "cell_type": "markdown",
   "id": "6ed48c7e",
   "metadata": {},
   "source": [
    "< [Table of Contents](#top) | [References](#references) >\n",
    "<a id=\"d\"></a>\n",
    "***\n",
    "###### Secure Coding Best Practices\n",
    "***"
   ]
  },
  {
   "cell_type": "markdown",
   "id": "a981f625",
   "metadata": {},
   "source": [
    "Secure coding best practices include:\n",
    "\n",
    "> Input Validation\n",
    "\n",
    "- Any technique used to ensure that the data entered into a field or variable in an application is handled appropriately by that application.\n",
    "\n",
    "\n",
    "- Resource: [ [OWASP Input Validation Cheat Sheet](https://cheatsheetseries.owasp.org/cheatsheets/Input_Validation_Cheat_Sheet.html) ]\n",
    "\n",
    "> Output Encoding\n",
    "\n",
    "- Coding methods that sanitize output created from user input.\n",
    "\n",
    "\n",
    "- Resource 1: [ [OWASP](https://wiki.owasp.org/index.php/Category:Encoding) ]\n",
    "\n",
    "\n",
    "- Resource 2: [ [W3 Schools](https://www.w3schools.com/html/html_entities.asp) ]\n",
    "\n",
    "> Parameterized Queries\n",
    "\n",
    "- A technique that defends against ``SQL Injection`` by incorporating ``placeholders`` in a SQL query.\n",
    "\n",
    "\n",
    "- Resource: [ [OWASP Query Parameterization Cheat Sheet](https://cheatsheetseries.owasp.org/cheatsheets/Query_Parameterization_Cheat_Sheet.html) ]"
   ]
  },
  {
   "cell_type": "markdown",
   "id": "fe578922",
   "metadata": {},
   "source": [
    "< [Table of Contents](#top) | [References](#references) >\n",
    "<a id=\"e\"></a>\n",
    "***\n",
    "###### Sensitive Data Protection Best Practices\n",
    "***"
   ]
  },
  {
   "cell_type": "markdown",
   "id": "5a2f91af",
   "metadata": {},
   "source": [
    "Sensitive Data Exposure is a software vulnerability where an attacker is able to circumvent access controls and retrieve confidential or sensitive data from the file system or database.\n",
    "\n",
    "Sensitive Data Exposure on a web application can be avoided with proper planning and security in mind - the following are some high-level ways to control sensitive data leakage:\n",
    "\n",
    "- [ [Review the OWASP Top 10 List](https://owasp.org/www-project-top-ten/2017/A3_2017-Sensitive_Data_Exposure) ]\n",
    "\n",
    "\n",
    "- Avoid using hardcoded credentials.\n",
    "\n",
    "\n",
    "- Cached data should be controlled in a ``Client/Server`` environment, including disabling autocomplete and cookie features."
   ]
  },
  {
   "cell_type": "markdown",
   "id": "6eb056ef",
   "metadata": {},
   "source": [
    "< [Table of Contents](#top) | [References](#references) >\n",
    "<a id=\"f\"></a>\n",
    "***\n",
    "###### Software Assessment Methods\n",
    "***"
   ]
  },
  {
   "cell_type": "markdown",
   "id": "cea30ba6",
   "metadata": {},
   "source": [
    "Ensuring software is scanned by a vulnerability scanner is critical for security - even more important is understanding each method of the software assessment to better implement it within your organization."
   ]
  },
  {
   "cell_type": "markdown",
   "id": "e738c6dd",
   "metadata": {},
   "source": [
    "< [Table of Contents](#top) | [References](#references) >\n",
    "<a id=\"g\"></a>\n",
    "***\n",
    "###### Software Assessment Methods - Static Analysis and Code Review\n",
    "***"
   ]
  },
  {
   "cell_type": "markdown",
   "id": "74bf952c",
   "metadata": {},
   "source": [
    "> Static Code Analysis\n",
    "\n",
    "Static code analysis is the process of reviewing uncompiled source code either manually or using automated tools. Performing some form of static analysis is one of the only ways to discover certain vulnerabilities before they are introduced into production.\n",
    "\n",
    "> Code Review\n",
    "\n",
    "Code review is the process of peer review of uncompiled source code by other developers. In combination with static analysis, human code review should be performed as well to ensure both security and coding best practices are being adhered to."
   ]
  },
  {
   "cell_type": "markdown",
   "id": "19bd13f0",
   "metadata": {},
   "source": [
    "< [Table of Contents](#top) | [References](#references) >\n",
    "<a id=\"h\"></a>\n",
    "***\n",
    "###### Software Assessment Methods - Verification of Critical Software\n",
    "***"
   ]
  },
  {
   "cell_type": "markdown",
   "id": "ff40a7ab",
   "metadata": {},
   "source": [
    "> Mathematical Modeling - Expected I/O\n",
    "\n",
    "A formal method is the process of validating software design through mathematical modeling of expected inputs and outputs.\n",
    "\n",
    "In some instances, it may be necessary to perform a formal review on critical software to identify isolated issues in the software - the formal method of review is very time consuming and difficult to justify."
   ]
  },
  {
   "cell_type": "markdown",
   "id": "e6b26cb6",
   "metadata": {},
   "source": [
    "< [Table of Contents](#top) | [References](#references) >\n",
    "<a id=\"i\"></a>\n",
    "***\n",
    "###### Software Assessment Methods - User Acceptance Testing - ``UAT``\n",
    "***"
   ]
  },
  {
   "cell_type": "markdown",
   "id": "c05a86d3",
   "metadata": {},
   "source": [
    "Usually one of the last stages in software development before release - ``UAT`` proves that a program is usable and fit for purpose in real world conditions.\n",
    "\n",
    "- ``UAT`` is more of a test to get a human's feedback on how a certain feature performs in a live environment. \n",
    "\n",
    "``UAT`` can be performed on application features or even security improvement, like for testing how well the ``MFA`` works."
   ]
  },
  {
   "cell_type": "markdown",
   "id": "7a6fbcff",
   "metadata": {},
   "source": [
    "< [Table of Contents](#top) | [References](#references) >\n",
    "<a id=\"j\"></a>\n",
    "***\n",
    "###### Software Assessment Methods - Security Regression Testing\n",
    "***"
   ]
  },
  {
   "cell_type": "markdown",
   "id": "7877b1f8",
   "metadata": {},
   "source": [
    "This is the process of checking that updates to code do not compromise existing security functionality or capability.\n",
    "\n",
    "Ultimately, regression testing is comparing working security fixes against the applications as a baseline - ensures that if any new code updates are pushed that break this or reopen a previously closed vulnerability, it can be addressed in real time."
   ]
  },
  {
   "cell_type": "markdown",
   "id": "5238801a",
   "metadata": {},
   "source": [
    "< [Table of Contents](#top) | [References](#references) >\n",
    "<a id=\"k\"></a>\n",
    "***\n",
    "###### ServIce-Oriented Architecture - ``SOA`` - Best Practices\n",
    "***"
   ]
  },
  {
   "cell_type": "markdown",
   "id": "522e9298",
   "metadata": {},
   "source": [
    "The following are some common [ [``SOA``](https://www.ibm.com/cloud/learn/soa) ] principles and features that help to both streamline and secure the service development process."
   ]
  },
  {
   "cell_type": "markdown",
   "id": "52f9f83e",
   "metadata": {},
   "source": [
    "< [Table of Contents](#top) | [References](#references) >\n",
    "<a id=\"l\"></a>\n",
    "***\n",
    "###### ServIce-Oriented Architecture - ``SOA`` - Best Practices - Microservices\n",
    "***"
   ]
  },
  {
   "cell_type": "markdown",
   "id": "62c27485",
   "metadata": {},
   "source": [
    "Microservices are a software architecture where components of the solution are conceived as highly decoupled services not dependent on a single platform type of technology."
   ]
  },
  {
   "cell_type": "markdown",
   "id": "d298f573",
   "metadata": {},
   "source": [
    "< [Table of Contents](#top) | [References](#references) >\n",
    "<a id=\"m\"></a>\n",
    "***\n",
    "###### ServIce-Oriented Architecture - ``SOA`` - Best Practices - Simple Object Access Protocol - ``SOAP``\n",
    "***"
   ]
  },
  {
   "cell_type": "markdown",
   "id": "aa75c2f7",
   "metadata": {},
   "source": [
    "``SOAP`` is a heavy XML-formatted messaging protocol that is used to exchange messages. \n",
    "\n",
    "It supports authentication, security in transport, and asynchronous messaging, which all can be very beneficial in an ``SOA`` environment.\n",
    "\n",
    "Since ``SOAP`` is vulnerable to exploits like probing, coercive parsing, malware, and SQL injection, it is crucial that you apply the rule of least privilege to ensure its integrity."
   ]
  },
  {
   "cell_type": "markdown",
   "id": "4fcbb140",
   "metadata": {},
   "source": [
    "< [Table of Contents](#top) | [References](#references) >\n",
    "<a id=\"n\"></a>\n",
    "***\n",
    "###### ServIce-Oriented Architecture - ``SOA`` - Best Practices - Security Assertions Markup Language - ``SAML``\n",
    "***"
   ]
  },
  {
   "cell_type": "markdown",
   "id": "67008cd2",
   "metadata": {},
   "source": [
    "``SAML`` is an XML-based data format used to exchange authentication information between a client and a service.\n",
    "\n",
    "Often used with ``SOAP``, ``SAML`` data is communicated in the form of a HTML assertion form. The form contains both authentication and user identity information about the session. \n",
    "\n",
    "``SAML`` implementations should be constantly validated and also encrypted."
   ]
  },
  {
   "cell_type": "markdown",
   "id": "8ca1b768",
   "metadata": {},
   "source": [
    "< [Table of Contents](#top) | [References](#references) >\n",
    "<a id=\"o\"></a>\n",
    "***\n",
    "###### ServIce-Oriented Architecture - ``SOA`` - Best Practices - Representational State Transfer - ``REST``\n",
    "***"
   ]
  },
  {
   "cell_type": "markdown",
   "id": "ec97b5f5",
   "metadata": {},
   "source": [
    "Compared to ``SOAP``, ``REST`` is a more loosely based protocol that is often used with an ``API`` to allow flexibility in its application. \n",
    "\n",
    "> Authentication/Authorization - ``Oauth``\n",
    "\n",
    "- ``REST`` implementation is called ``Oauth``.\n",
    "\n",
    "``Oauth`` main purpose is to share user data between sites and applications.\n",
    "\n",
    "To recap, Application Programming Interfaces (APIs) are a library of programming utilities used, for example, to enable software developers to access functions of the TCP/IP network stack under a particular OS."
   ]
  },
  {
   "cell_type": "markdown",
   "id": "477ecff8",
   "metadata": {},
   "source": [
    "< [Table of Contents](#top) | [References](#references) >\n",
    "<a id=\"p\"></a>\n",
    "***\n",
    "###### ServIce-Oriented Architecture - ``SOA`` - Best Practices - OpenID Connect - ``OIDC``\n",
    "***"
   ]
  },
  {
   "cell_type": "markdown",
   "id": "12bfe1bc",
   "metadata": {},
   "source": [
    "``OIDC`` is a special protocol designed to handle authorizing claims and not some much authenticating actual user accounts. \n",
    "\n",
    "Both ``REST`` and ``OIDC`` pertain to the authentication and authorization on APIs specifically."
   ]
  },
  {
   "attachments": {
    "image.png": {
     "image/png": "[encoded data removed]"
    }
   },
   "cell_type": "markdown",
   "id": "0b16c54f",
   "metadata": {},
   "source": [
    "![image.png](attachment:image.png)"
   ]
  },
  {
   "cell_type": "markdown",
   "id": "ce78592c",
   "metadata": {},
   "source": [
    "< [Table of Contents](#top) | [References](#references) >\n",
    "<a id=\"q\"></a>\n",
    "***\n",
    "###### Automation Best Practices\n",
    "***"
   ]
  },
  {
   "cell_type": "markdown",
   "id": "b48deea9",
   "metadata": {},
   "source": [
    "Automation is a great way to speed up tedious tasks and increase workflows in a business setting. \n",
    "\n",
    "When implementing automation, it is important to consider the following best practices to preserve the spirit of security along the way."
   ]
  },
  {
   "cell_type": "markdown",
   "id": "489bb8d9",
   "metadata": {},
   "source": [
    "< [Table of Contents](#top) | [References](#references) >\n",
    "<a id=\"r\"></a>\n",
    "***\n",
    "###### DevSecOps\n",
    "***"
   ]
  },
  {
   "cell_type": "markdown",
   "id": "2a83878a",
   "metadata": {},
   "source": [
    "Integrating security into the ``DevOps`` pipeline as soon as possible is the best way to ensure that ``Static Code Analysis`` has ample time to execute and be remediated before the code goes live in production."
   ]
  },
  {
   "cell_type": "markdown",
   "id": "a54289e8",
   "metadata": {},
   "source": [
    "< [Table of Contents](#top) | [References](#references) >\n",
    "<a id=\"s\"></a>\n",
    "***\n",
    "###### Infrastructure as Code - ``IaC``\n",
    "***"
   ]
  },
  {
   "cell_type": "markdown",
   "id": "7b518b90",
   "metadata": {},
   "source": [
    "``IaC`` is a provisioning architecture in which deployment of resources is performed by scripted automation and orchestration.\n",
    "\n",
    "Utilizing ``IaC`` allows for production and development teams to have the flexibility to spin up resources as needed and helps to speed up the overall development process. \n",
    "\n",
    "> Ensure Proper Access/Resource Controls\n",
    "\n",
    "One very important best practice to implement with ``IaC`` is to ensure that proper access and resource controls are in place on who and what can create which types of resources. \n",
    "\n",
    "> Golden Image Standard \n",
    "\n",
    "The use of a [ [Golden Image](https://www.techopedia.com/definition/29456/golden-image) ] Standard is advised as well to give the users freedom, but within a set list of boundaries."
   ]
  },
  {
   "cell_type": "markdown",
   "id": "77629265",
   "metadata": {},
   "source": [
    "< [Table of Contents](#top) | [References](#references) >\n",
    "<a id=\"t\"></a>\n",
    "***\n",
    "###### Security Orchestration Automation and Response - ``SOAR``\n",
    "***"
   ]
  },
  {
   "cell_type": "markdown",
   "id": "bae3d570",
   "metadata": {},
   "source": [
    "``SOAR`` is a class of security tools that facilitates (via orchestrating automated runbooks and delivering data enrichment):\n",
    "\n",
    "\n",
    "- Incident Response\n",
    "\n",
    "\n",
    "- Threat Hunting\n",
    "\n",
    "\n",
    "- Security Configuration \n",
    "\n",
    "> Streamline Automation\n",
    "\n",
    "Implementing a ``SOAR`` solution in your enterprise can help streamline all the automation efforts surrounding your security stance. This includes combining machine learning techniques, with automated malware signature creation, data enrichment, and artificial intelligence. \n",
    "\n",
    "> Orchestrate Response/Remediation\n",
    "\n",
    "Bundling these all into a tool that will also orchestrate the response and remediation of certain items once triggered by using playbooks and runbooks.\n",
    "\n",
    "- Playbook\n",
    "\n",
    "A checklist of actions to perform to detect and respond to a specific type of incident.\n",
    "\n",
    "- Runbook\n",
    "\n",
    "An automated version of a playbook that leaves clearly defined interaction points for human analysis."
   ]
  },
  {
   "cell_type": "markdown",
   "id": "2cc20932",
   "metadata": {},
   "source": [
    "***\n",
    "## END"
   ]
  },
  {
   "cell_type": "markdown",
   "id": "e0e42d51",
   "metadata": {},
   "source": [
    "< [Table of Contents](#top) >\n",
    "<a id=\"references\"></a>\n",
    "***\n",
    "## References\n",
    "***"
   ]
  },
  {
   "cell_type": "markdown",
   "id": "c3ff99ac",
   "metadata": {},
   "source": [
    "&nbsp;&nbsp;&nbsp;&nbsp;&nbsp;&nbsp;&nbsp;&nbsp;&nbsp;cybrary, \"Software Assurance,\" [cybrary.it](https://web.archive.org/web/20220724081418/https://www.cybrary.it/), n.d.."
   ]
  },
  {
   "cell_type": "markdown",
   "id": "b33c372a",
   "metadata": {},
   "source": [
    "***\n",
    "## END"
   ]
  },
  {
   "cell_type": "markdown",
   "id": "e5961b4d",
   "metadata": {},
   "source": [
    "< [Table of Contents](#top) | [References](#references) >\n",
    "<a id=\"appendix\"></a>\n",
    "***\n",
    "## Appendix\n",
    "***"
   ]
  },
  {
   "cell_type": "markdown",
   "id": "00d82a82",
   "metadata": {},
   "source": [
    "***\n",
    "## END"
   ]
  },
  {
   "cell_type": "code",
   "execution_count": 1,
   "id": "706756a2",
   "metadata": {},
   "outputs": [
    {
     "name": "stderr",
     "output_type": "stream",
     "text": [
      "C:\\Users\\SeanOhAileasa\\AppData\\Local\\Temp\\ipykernel_9128\\1322614208.py:1: DeprecationWarning: Importing display from IPython.core.display is deprecated since IPython 7.14, please import from IPython display\n",
      "  from IPython.core.display import display,HTML\n"
     ]
    },
    {
     "data": {
      "text/html": [
       "<style>.container { width:100% !important; }</style>"
      ],
      "text/plain": [
       "<IPython.core.display.HTML object>"
      ]
     },
     "metadata": {},
     "output_type": "display_data"
    }
   ],
   "source": [
    "from IPython.core.display import display,HTML\n",
    "display(HTML(\"<style>.container { width:100% !important; }</style>\"))"
   ]
  },
  {
   "cell_type": "markdown",
   "id": "899c1783",
   "metadata": {},
   "source": [
    "# END JUPYTER NOTEBOOK"
   ]
  }
 ],
 "metadata": {
  "kernelspec": {
   "display_name": "Python 3 (ipykernel)",
   "language": "python",
   "name": "python3"
  },
  "language_info": {
   "codemirror_mode": {
    "name": "ipython",
    "version": 3
   },
   "file_extension": ".py",
   "mimetype": "text/x-python",
   "name": "python",
   "nbconvert_exporter": "python",
   "pygments_lexer": "ipython3",
   "version": "3.9.12"
  }
 },
 "nbformat": 4,
 "nbformat_minor": 5
}
